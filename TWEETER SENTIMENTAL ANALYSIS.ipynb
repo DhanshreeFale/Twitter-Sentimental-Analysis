{
 "cells": [
  {
   "cell_type": "code",
   "execution_count": 205,
   "metadata": {},
   "outputs": [],
   "source": [
    "import tweepy\n",
    "import re\n",
    "import pickle\n",
    "from tweepy import OAuthHandler"
   ]
  },
  {
   "cell_type": "code",
   "execution_count": 206,
   "metadata": {},
   "outputs": [],
   "source": [
    "consumer_key = 'WwNwHd0SOXO6Rlq1KTUiIiip3'\n",
    "consumer_secret = 'CYGFBdgIizZNYWTPp4e41bb9wZqbxF7gVnG91Yg6m1iysO8Pmk'\n",
    "access_token = '786428998968565760-KrxpG8GZbiC7WkoRWZXIN8z6IwD42Wq'\n",
    "access_secret = 'VIJsJRkiTRMCq4icFvd1LnpWuOXyUJPlbqDAncOwGm7oV'"
   ]
  },
  {
   "cell_type": "code",
   "execution_count": 207,
   "metadata": {},
   "outputs": [
    {
     "data": {
      "text/plain": [
       "\"'auth = OAuthHandler(consumer_key, consumer_secret)\\nauth.set_access_token(access_token, access_secret)\\nargs = ['modi'];\\napi = tweepy.API(auth,timeout=10)\""
      ]
     },
     "execution_count": 207,
     "metadata": {},
     "output_type": "execute_result"
    }
   ],
   "source": [
    "''''auth = OAuthHandler(consumer_key, consumer_secret)\n",
    "auth.set_access_token(access_token, access_secret)\n",
    "args = ['modi'];\n",
    "api = tweepy.API(auth,timeout=10)''' "
   ]
  },
  {
   "cell_type": "code",
   "execution_count": 208,
   "metadata": {},
   "outputs": [
    {
     "data": {
      "text/plain": [
       "'list_tweets = []\\n\\nquery = args[0]\\nif len(args) == 1:\\n    for status in tweepy.Cursor(api.search, q = query+\"filter:retweets\",lange = \\'en\\',result_type = \\'recent\\').items(100):\\n        list_tweets.append(status.text) '"
      ]
     },
     "execution_count": 208,
     "metadata": {},
     "output_type": "execute_result"
    }
   ],
   "source": [
    "'''list_tweets = []\n",
    "\n",
    "query = args[0]\n",
    "if len(args) == 1:\n",
    "    for status in tweepy.Cursor(api.search, q = query+\"filter:retweets\",lange = 'en',result_type = 'recent').items(100):\n",
    "        list_tweets.append(status.text) '''"
   ]
  },
  {
   "cell_type": "code",
   "execution_count": 209,
   "metadata": {},
   "outputs": [],
   "source": [
    "#list_tweets"
   ]
  },
  {
   "cell_type": "code",
   "execution_count": 210,
   "metadata": {},
   "outputs": [],
   "source": [
    "auth = OAuthHandler(consumer_key, consumer_secret)\n",
    "auth.set_access_token(access_token, access_secret)\n",
    "args = ['corona'];\n",
    "api = tweepy.API(auth,timeout=10)\n",
    "\n",
    "\n",
    "list_tweets = []\n",
    "\n",
    "query = args[0]\n",
    "if len(args) == 1:\n",
    "    for status in tweepy.Cursor(api.search,q=query+\" -filter:retweets\",lang='en',result_type='recent').items(100):\n",
    "        list_tweets.append(status.text)"
   ]
  },
  {
   "cell_type": "code",
   "execution_count": 211,
   "metadata": {},
   "outputs": [
    {
     "data": {
      "text/plain": [
       "['Corona global lockdown is the first time people of all nations, religions, races, ages, economic political and scie… https://t.co/1WbAVAlXCv',\n",
       " 'Per below post @CAPratikKarpe  beaten with help frm @MumbaiPolice, for putting objectionable content on social medi… https://t.co/AsSB3bGz1L',\n",
       " '@dhruv_rathee People in North Korea were shot to death who were corona infected. \\nShould we do the same?',\n",
       " 'Despite lockdown, we can move forward in academia. We will keep ourselves and beloved ones safe, participate in sto… https://t.co/GSiedFsJoG',\n",
       " 'Dababy got everyone saying they needed some shit wit some bop in and Corona came out like \"let\\'s gooo\" https://t.co/3IZRY6us6c',\n",
       " 'Focusing on the positive effects of Corona Virus: https://t.co/quU7p9mn3J',\n",
       " 'The #coronavirus has been dominating each news cycle for quite a while now. Here are the topics &amp; sentiment around… https://t.co/SVgGIJNWAT',\n",
       " 'Please listen to this important message from @Manekagandhibjp madam. Cats dont give corona , please dont ignore or… https://t.co/XcHP7IqNKp',\n",
       " '@narendramodi @ScottMorrisonMP Highly appreciated. Corona is a global problem and so all countries need to work tog… https://t.co/Pdy5TjPVLv',\n",
       " 'Vote on a #paidsurvey @tellwut Do you think people in Canada will suffer more from corona virus pandemic than the p… https://t.co/hDas8Kwy1l',\n",
       " 'Just learned.\\n\\nCOVID-19\\n\\nCO = Corona\\nVI = Virus\\nD\\xa0= Disease\\n19 = Year it was discovered',\n",
       " '@Rup7000 @BibaGirl I mean stormzy did say fuck Boris and corona virus has sent him to ICU so im not exactly sure wh… https://t.co/Bpv3Z8JYUU',\n",
       " '@statmuse @BeMore27 @rudygobert27 pubes and corona\\n\\nnice',\n",
       " \"my apartment complex decided to send a letter out to every resident about helping them if they can't pay rent bc of… https://t.co/cyHyHmvpqd\",\n",
       " '@marklevinshow\\nIf you graph out the Annual Flu for the past decade\\nit would look exact like their portraying the Co… https://t.co/B895A677Fy',\n",
       " 'Ah. Today is beer battered fish and fries.\\n\\nThe beer used is corona.\\n\\nOh lordy https://t.co/m630nR1m9v',\n",
       " 'He is absolutely right. Many health-institutes have shown incredible difficulties responding to #corona appropriate… https://t.co/8r2R8rYo6I',\n",
       " '@woooojinn CORONA WOOJIN',\n",
       " 'You may have tried at your own level #UnderstandingThisDistress of the Corona Pandemic but all has been in vain.… https://t.co/81rzlCpZud',\n",
       " '@AKhatri25 The difference between hindu..when Kashmiri pandit were shoot they never picked up the gun ..\\nMuslim on… https://t.co/0bObk9ZuxL',\n",
       " '@QuariumArts Satori is the corona confirmed by Quariumom',\n",
       " 'fuck corona',\n",
       " 'Y’all still panicking over corona?',\n",
       " '@greta Yes!!! The tiger corona situation. Do we have to worry about our pets, livestock etc after all? Seems full c… https://t.co/Ld5Vc2ivT6',\n",
       " '@SeanDawes Thanks, Sean. We put together a great resource page on our site that can assist businesses during this t… https://t.co/0TEhbJicTP',\n",
       " 'Exercise and practice at home, stay at home and fight the corona, we defeat the corona\\n#Iran  # rugby  #exercise… https://t.co/mrbZVZpWEy',\n",
       " '@daily_trust Nawaoo for Nigeria, are they fighting against corona virus or against its people',\n",
       " 'May be China can market Huawei 5G equipment as a cure for corona virus..then people will stop burning 5G towers https://t.co/kKNcogreu7',\n",
       " '@realDonaldTrump W.H.O is proving their share of spreading corona virus .',\n",
       " \"Gee, should I just go to a corona emergency room on the night before and tell them I'll be so sick tomorrow October… https://t.co/VsWwHiY8kL\",\n",
       " '@piersmorgan Who gives a fuck about those two has beens. Still trying to get publicity even in the middle of this t… https://t.co/tkSgVJmsnd',\n",
       " '@Shahabaaz2 @AskAnshul Can you tell the jokers who are harbouring the infested markaz  i.e corona carriers to catch… https://t.co/VqQjx0rDpW',\n",
       " 'Lady Gaga announces a star-studded music broadcast for Corona Warriors https://t.co/EhgdAH9w7f',\n",
       " '@san1johnmichael As W.H.O insisted that Corona virus is not an air borne disease,So no need of such idea.',\n",
       " 'I just bought Corona and my favorite wine. Quarantine ain’t so bad',\n",
       " \"@SizweDhlomo 8 mfethu. It's getting worse, I have lost too much business because of this Corona virus. It's going b… https://t.co/N6Um80i4yZ\",\n",
       " 'Bajans need to get with it PERIOD. This corona situation shows that people in this island just hate change. Technol… https://t.co/rVKvV6t2DI',\n",
       " '@wallacemick would you trust a bill gates vaccine he and others engineered corona virus to push vaccines that are w… https://t.co/MoxKvl7PBN',\n",
       " '#IndiaTrustsPmModi and I do also trust. India will defeat corona and unfurl the flag of victory.\\n\\nI Pray all to #StayHome',\n",
       " 'Many people think that the corona virus has been brought by the devil. This is the sure judgement of the LORD becau… https://t.co/AncsSsGLOp',\n",
       " 'Now kashur lover should change the name of their cancer love to corona love.',\n",
       " '@ReutersUK YOU SEE THAT ANSWER WHO HAD THE FINGER ON THE CORONA BUTTON PLEASE DO A NEW QUESTION WITH THAT ANSWER 🐻',\n",
       " 'While corona virus itself does not racially discriminate, it will continue to further expose how our broken system… https://t.co/UBu0Hagpc2',\n",
       " \"Pak PM also here appealing his countrymen to PM's Corona Relief Fund to help the poor &amp; needy https://t.co/wmpOkGVP1V\",\n",
       " '@lavinia_tea What is a long weekend in Corona time?',\n",
       " '@UtdAbdullah A cure for corona would speed up the process of signing Sancho so win win',\n",
       " 'Interesting that We Can VOTE live due to Corona\\n\\nBut they cannot?\\nHmmm https://t.co/MZVzjgX0Lw',\n",
       " 'Due to fake news n misinformation on social media, the pandemic of panic and uncertainty has spread faster and wider than  Corona .',\n",
       " '@Chaveztoon Los Corona Boys https://t.co/b09QaHdEit',\n",
       " 'away corona fuck off now i want a pint',\n",
       " '@FrankFshagan @CalebHowe @BretBaier You need to take your Corona pills now',\n",
       " '@indembkwt Sir kindly allow flights from Kuwait for Indian citizens to return. Our condition is worst than corona.… https://t.co/l3tDnQVuzb',\n",
       " '@CraigDMauger @Momofonly3 70 days is insane\\n23 days is long enough considering the CORONA CURVE Model was Way OFF to start with',\n",
       " '@PuneCityPolice people are still flocking at banks in pune.Putting customers &amp; employees in danger. Thr is no real… https://t.co/iY2gqHUZWl',\n",
       " 'This Corona Virus is very serious o. Over 368k cases in the U.S and 11k deaths. \\n\\nThat is a freaking high nos and we in Naija are playing.',\n",
       " 'woo hoo!!! my big boss @HBoushey at @equitablegrowth https://t.co/UTEJ8wkffI',\n",
       " '@ProfMKay Beautiful. If Corona looked like her, at least people would die with smile on their faces. I am talking about mainly the males🤣🤣🤣',\n",
       " 'We being #Muslims believe that knowledge of our Prophet #Muhammad Pbuh given by Allah never given to any human in t… https://t.co/kuJI5vripq',\n",
       " 'Is this terrible allergies or corona? Ah hah hah.',\n",
       " '@peterunfried ...I am not an expert. These are merely my thoughts and I have been reportedly wrong on Corona speculations before!',\n",
       " 'I bet the Coronas middle name is Nicole!! \\nCorona Nicole Virus 🙄\\nNicole’s be toxic af lol',\n",
       " '@kierronwise Forgot he was the only one with corona virus',\n",
       " '@TarekFatah @ZeeNews After markaz they are allowed to hide in mosques,they are misbehaving with female doctors,form… https://t.co/OkqFN1YO5f',\n",
       " \"@BTC_JackSparrow Rum is Gone Jack! Only Corona's left now 😂 https://t.co/MlAL5lWhVA\",\n",
       " '@rukhsarahmed786 Protect your self from Corona Drona and any kind of Virus 🦠',\n",
       " '*News gives Corona Virus update \\n\\nMe: https://t.co/l9h95a96ev',\n",
       " '@moverick Kindly remove your nose mask sir, corona virus is not airbone or twitter-borne, if it were, we would all… https://t.co/ccCJihdGm0',\n",
       " '@KiyaaMunezero Sis. After Corona this will pocket change to us. Amen?',\n",
       " '@MamataOfficial respected mam\\nWe need to part part lockdown.\\nIn this place effected in corona which place fully loc… https://t.co/zczTKZtpRl',\n",
       " 'Not even sure of wetin go kill person again, corona dey outside, hunger dey inside, konji dey inside inside.\\n                  🤓🤓🤓',\n",
       " 'So amazing how world leaders are using their life experience to help with the Corona attack. The Irish PM registers… https://t.co/KBUN5JTFdl',\n",
       " 'The @EU_Commission amended &amp; extended the Temporary Framework to enable #MemberStates to safe jobs &amp; support… https://t.co/CtpI9Hxiwt',\n",
       " 'New type of #Sugar 🤦🏻\\u200d♂️\\n\\n#lka #Corona #StayAtHome https://t.co/SHrtalpDAh',\n",
       " '@Fatii01_ Me ne Corona Virus ke name see.',\n",
       " '@Vladzhammer @jomalley1981 Smart move, not good timing with Corona.',\n",
       " '@DrOstfeld @sayani_pandit A large number of people don’t have understanding of viruses and they are also clubbing a… https://t.co/uK7kz0eTWs',\n",
       " 'What is the best tasting #sailing rum? Read my Corona-instilled self-test: https://t.co/PlWyvRmeuI\\n\\n#yacht #rum https://t.co/oRB4ccvHUI',\n",
       " 'A considerable number of false narratives relate to health issues. Our Media Science Hub is selecting reliable sour… https://t.co/xvL3zZdzj9',\n",
       " 'Ikorodu Lagosians but why??? If corona catch una now una go begin talk say government no do good! O dimma ? https://t.co/M8D22gSIS3',\n",
       " '@HillaryClinton Oh... go drink some Corona!',\n",
       " 'I swear if I see one more of those \"ugh what am i gonna do with all my free time due to corona, it\\'s practically en… https://t.co/3sSMpP1XyM',\n",
       " '@maxkellerman @stephenasmith @FirstTake Trump mentioned that corona virus was a serious issue in the state of the u… https://t.co/y8n5rKMhM2',\n",
       " 'We are missing  Dr Sumit Sharma (IAS) former Director National Health mission government of Rajasthan on  this time… https://t.co/ORX5YRsVIx',\n",
       " 'Credit : NSC Production\\n\\na production house doing charity production and music recording via online \\nduring CORONA… https://t.co/BZHHWmjfYs',\n",
       " 'Do help of poor people without greed. #corona #poor #Pakistan #poorcommunity https://t.co/yB2TJuq3NR',\n",
       " \"@ewalterick @RealIsaBako @JimmyJo39591720 @locals8822 @robrousseau @realDonaldTrump I'm still waiting for a link to… https://t.co/Yj30sywnqo\",\n",
       " '@theca13 @BorisJohnson https://t.co/v33H3YjNZa I insist you should go and hug corona virus patients so that we can… https://t.co/PCnsNnQTmJ',\n",
       " 'LOOTING OF GOVT.  CORONA HELP OF POOR ;\\n\\nPM &amp; CM yogiji \\n \\nPlease see India TV RAJAT SHARMAJI REPORT 9PM ON8/4.SO P… https://t.co/yEDM5hgW6a',\n",
       " '@CryptTheRapper Nah bro... I get those sometimes too... Although now I just buy shit from nightshop cause all fast-… https://t.co/kP6XgMZ2he',\n",
       " \"@MsGeeBabe Opposite where the wine shop is? \\nI'll wait for Corona to finish and go pay a visit.\",\n",
       " 'Street dogs and all street animals are without food. I request to all people and Govt of India to give food to thes… https://t.co/apJIwP7Hsw',\n",
       " 'So far as I see that all the state governments are at their toe to curb the Corona virus, what the hell the central government is doing?',\n",
       " 'Anyone found a corona cure yet, gettin bored here',\n",
       " '@LOAFGANGJT the corona won’t let me 😂🤣🤣😄',\n",
       " '@Lam00095 Corona virus seriously stoooooop ur killing the vibesssssssss',\n",
       " 'How corona will throw illegal immigrants out ?  https://t.co/o76wbmJXie',\n",
       " 'Corona virus corona virus are you serious, you are delirious and piss off!',\n",
       " '@himantabiswa dont worry sir we r with u himanta sir ,its very remarkable steps for defeating corona...its only u w… https://t.co/ta9BRjok7T',\n",
       " 'It’s funny how the only people in my mentions are Americans who have no idea or people who clearly don’t struggle f… https://t.co/J1ahGhjfbC',\n",
       " '“” PLANET EARTH 🌍 “””\\n____LISTEN 2 OUR HEART ❤️ _____\\n•••• 2 HELP our WORLD 🌎 •••\\n“”””””” CURE CORONA = V.i.R.u.S 🤒… https://t.co/GGAGfkVOZW']"
      ]
     },
     "execution_count": 211,
     "metadata": {},
     "output_type": "execute_result"
    }
   ],
   "source": [
    "list_tweets"
   ]
  },
  {
   "cell_type": "code",
   "execution_count": 212,
   "metadata": {},
   "outputs": [],
   "source": [
    "with open('tfidfmodel.pickle','rb') as f:\n",
    "    vectorizer = pickle.load(f)"
   ]
  },
  {
   "cell_type": "code",
   "execution_count": 213,
   "metadata": {},
   "outputs": [],
   "source": [
    "with open('classifier.pickle','rb') as f:\n",
    "    clf = pickle.load(f)"
   ]
  },
  {
   "cell_type": "code",
   "execution_count": 214,
   "metadata": {},
   "outputs": [],
   "source": [
    "total_pos = 0\n",
    "total_neg = 0"
   ]
  },
  {
   "cell_type": "code",
   "execution_count": 215,
   "metadata": {},
   "outputs": [
    {
     "name": "stdout",
     "output_type": "stream",
     "text": [
      "corona global lockdown is the first time people of all nations religions races ages economic political and scie  : [1]\n",
      "per below post capratikkarpe beaten with help frm mumbaipolice for putting objectionable content on social medi  : [1]\n",
      " dhruv_rathee people in north korea were shot to death who were corona infected should we do the same  : [1]\n",
      "despite lockdown we can move forward in academia we will keep ourselves and beloved ones safe participate in sto  : [1]\n",
      "dababy got everyone saying they needed some shit wit some bop in and corona came out like let s gooo  : [0]\n",
      "focusing on the positive effects of corona virus  : [0]\n",
      "the coronavirus has been dominating each news cycle for quite a while now here are the topics amp sentiment around  : [1]\n",
      "please listen to this important message from manekagandhibjp madam cats dont give corona please dont ignore or  : [0]\n",
      " narendramodi scottmorrisonmp highly appreciated corona is a global problem and so all countries need to work tog  : [0]\n",
      "vote on a paidsurvey tellwut do you think people in canada will suffer more from corona virus pandemic than the p  : [1]\n",
      "just learned covid co corona vi virus d disease year it was discovered : [0]\n",
      " rup bibagirl i mean stormzy did say fuck boris and corona virus has sent him to icu so im not exactly sure wh  : [0]\n",
      " statmuse bemore rudygobert pubes and corona nice : [1]\n",
      "my apartment complex decided to send a letter out to every resident about helping them if they can not pay rent bc of  : [0]\n",
      " marklevinshow if you graph out the annual flu for the past decade it would look exact like their portraying the co  : [0]\n",
      "ah today is beer battered fish and fries the beer used is corona oh lordy  : [1]\n",
      "he is absolutely right many health institutes have shown incredible difficulties responding to corona appropriate  : [1]\n",
      " woooojinn corona woojin : [1]\n",
      "you may have tried at your own level understandingthisdistress of the corona pandemic but all has been in vain  : [1]\n",
      " akhatri the difference between hindu when kashmiri pandit were shoot they never picked up the gun muslim on  : [0]\n",
      " quariumarts satori is the corona confirmed by quariumom : [1]\n",
      "fuck corona : [1]\n",
      " all still panicking over corona  : [1]\n",
      " greta yes the tiger corona situation do we have to worry about our pets livestock etc after all seems full c  : [1]\n",
      " seandawes thanks sean we put together a great resource page on our site that can assist businesses during this t  : [1]\n",
      "exercise and practice at home stay at home and fight the corona we defeat the corona iran rugby exercise  : [1]\n",
      " daily_trust nawaoo for nigeria are they fighting against corona virus or against its people : [1]\n",
      "may be china can market huawei g equipment as a cure for corona virus then people will stop burning g towers  : [1]\n",
      " realdonaldtrump w h o is proving their share of spreading corona virus  : [1]\n",
      "gee should i just go to a corona emergency room on the night before and tell them i ll be so sick tomorrow october  : [1]\n",
      " piersmorgan who gives a fuck about those two has beens still trying to get publicity even in the middle of this t  : [0]\n",
      " shahabaaz askanshul can you tell the jokers who are harbouring the infested markaz i e corona carriers to catch  : [0]\n",
      "lady gaga announces a star studded music broadcast for corona warriors  : [1]\n",
      " san johnmichael as w h o insisted that corona virus is not an air borne disease so no need of such idea  : [0]\n",
      " just bought corona and my favorite wine quarantine ain t so bad : [0]\n",
      " sizwedhlomo mfethu it is getting worse i have lost too much business because of this corona virus it is going b  : [0]\n",
      "bajans need to get with it period this corona situation shows that people in this island just hate change technol  : [1]\n",
      " wallacemick would you trust a bill gates vaccine he and others engineered corona virus to push vaccines that are w  : [1]\n",
      " indiatrustspmmodi and i do also trust india will defeat corona and unfurl the flag of victory i pray all to stayhome : [1]\n",
      "many people think that the corona virus has been brought by the devil this is the sure judgement of the lord becau  : [1]\n",
      "now kashur lover should change the name of their cancer love to corona love  : [1]\n",
      " reutersuk you see that answer who had the finger on the corona button please do a new question with that answer  : [0]\n",
      "while corona virus itself does not racially discriminate it will continue to further expose how our broken system  : [0]\n",
      "pak pm also here appealing his countrymen to pm s corona relief fund to help the poor amp needy  : [1]\n",
      " lavinia_tea what is a long weekend in corona time  : [0]\n",
      " utdabdullah a cure for corona would speed up the process of signing sancho so win win : [1]\n",
      "interesting that we can vote live due to corona but they cannot hmmm  : [1]\n",
      "due to fake news n misinformation on social media the pandemic of panic and uncertainty has spread faster and wider than corona  : [1]\n",
      " chaveztoon los corona boys  : [1]\n",
      "away corona fuck off now i want a pint : [0]\n",
      " frankfshagan calebhowe bretbaier you need to take your corona pills now : [1]\n",
      " indembkwt sir kindly allow flights from kuwait for indian citizens to return our condition is worst than corona  : [0]\n",
      " craigdmauger momofonly days is insane days is long enough considering the corona curve model was way off to start with : [0]\n",
      " punecitypolice people are still flocking at banks in pune putting customers amp employees in danger thr is no real  : [1]\n",
      "this corona virus is very serious o over k cases in the u s and k deaths that is a freaking high nos and we in naija are playing  : [0]\n",
      "woo hoo my big boss hboushey at equitablegrowth  : [0]\n",
      " profmkay beautiful if corona looked like her at least people would die with smile on their faces i am talking about mainly the males  : [0]\n",
      "we being muslims believe that knowledge of our prophet muhammad pbuh given by allah never given to any human in t  : [0]\n",
      "is this terrible allergies or corona ah hah hah  : [0]\n",
      " peterunfried i am not an expert these are merely my thoughts and i have been reportedly wrong on corona speculations before  : [0]\n",
      " bet the coronas middle name is nicole corona nicole virus nicole s be toxic af lol : [0]\n",
      " kierronwise forgot he was the only one with corona virus : [0]\n",
      " tarekfatah zeenews after markaz they are allowed to hide in mosques they are misbehaving with female doctors form  : [0]\n",
      " btc_jacksparrow rum is gone jack only corona s left now  : [1]\n",
      " rukhsarahmed protect your self from corona drona and any kind of virus  : [0]\n",
      " news gives corona virus update me  : [1]\n",
      " moverick kindly remove your nose mask sir corona virus is not airbone or twitter borne if it were we would all  : [0]\n",
      " kiyaamunezero sis after corona this will pocket change to us amen  : [1]\n",
      " mamataofficial respected mam we need to part part lockdown in this place effected in corona which place fully loc  : [1]\n",
      "not even sure of wetin go kill person again corona dey outside hunger dey inside konji dey inside inside  : [1]\n",
      "so amazing how world leaders are using their life experience to help with the corona attack the irish pm registers  : [1]\n",
      "the eu_commission amended amp extended the temporary framework to enable memberstates to safe jobs amp support  : [1]\n",
      "new type of sugar lka corona stayathome  : [1]\n",
      " fatii _ me ne corona virus ke name see  : [0]\n",
      " vladzhammer jomalley smart move not good timing with corona  : [1]\n",
      " drostfeld sayani_pandit a large number of people don t have understanding of viruses and they are also clubbing a  : [1]\n",
      "what is the best tasting sailing rum read my corona instilled self test yacht rum  : [1]\n",
      " considerable number of false narratives relate to health issues our media science hub is selecting reliable sour  : [1]\n",
      "ikorodu lagosians but why if corona catch una now una go begin talk say government no do good o dimma  : [0]\n",
      " hillaryclinton oh go drink some corona  : [1]\n",
      " swear if i see one more of those ugh what am i gonna do with all my free time due to corona it is practically en  : [1]\n",
      " maxkellerman stephenasmith firsttake trump mentioned that corona virus was a serious issue in the state of the u  : [0]\n",
      "we are missing dr sumit sharma ias former director national health mission government of rajasthan on this time  : [0]\n",
      "credit nsc production a production house doing charity production and music recording via online during corona  : [1]\n",
      "do help of poor people without greed corona poor pakistan poorcommunity  : [0]\n",
      " ewalterick realisabako jimmyjo locals robrousseau realdonaldtrump i am still waiting for a link to  : [1]\n",
      " theca borisjohnson i insist you should go and hug corona virus patients so that we can  : [0]\n"
     ]
    },
    {
     "name": "stdout",
     "output_type": "stream",
     "text": [
      "looting of govt corona help of poor pm amp cm yogiji please see india tv rajat sharmaji report pm on so p  : [0]\n",
      " crypttherapper nah bro i get those sometimes too although now i just buy shit from nightshop cause all fast  : [1]\n",
      " msgeebabe opposite where the wine shop is i ll wait for corona to finish and go pay a visit  : [0]\n",
      "street dogs and all street animals are without food i request to all people and govt of india to give food to thes  : [1]\n",
      "so far as i see that all the state governments are at their toe to curb the corona virus what the hell the central government is doing  : [0]\n",
      "anyone found a corona cure yet gettin bored here : [0]\n",
      " loafgangjt the corona won t let me  : [0]\n",
      " lam corona virus seriously stoooooop ur killing the vibesssssssss : [0]\n",
      "how corona will throw illegal immigrants out  : [0]\n",
      "corona virus corona virus are you serious you are delirious and piss off  : [0]\n",
      " himantabiswa dont worry sir we r with u himanta sir its very remarkable steps for defeating corona its only u w  : [1]\n",
      "it s funny how the only people in my mentions are americans who have no idea or people who clearly don t struggle f  : [1]\n",
      " planet earth ____listen our heart _____ help our world cure corona v i r u s  : [1]\n"
     ]
    }
   ],
   "source": [
    "for tweet in list_tweets:\n",
    "    tweet = re.sub(r'^https://t.co/[a-zA-Z0-9]*\\s',' ',tweet)\n",
    "    tweet = re.sub(r'\\s+https://t.co/[a-zA-Z0-9]*\\s',' ',tweet)\n",
    "    tweet = re.sub(r'\\s+https://t.co/[a-zA-Z0-9]*$',' ',tweet)\n",
    "    tweet = tweet.lower()\n",
    "    tweet = re.sub(r\"that's\",\"that is\",tweet)\n",
    "    tweet = re.sub(r\"there's\",\"there is\",tweet)\n",
    "    tweet = re.sub(r\"what's\",\"what is\",tweet)\n",
    "    tweet = re.sub(r\"where's\",\"where is\",tweet)\n",
    "    tweet = re.sub(r\"it's\",\"it is\",tweet)\n",
    "    tweet = re.sub(r\"who's\",\"who is\",tweet)\n",
    "    tweet = re.sub(r\"i'm\",\"i am\",tweet)\n",
    "    tweet = re.sub(r\"she's\",\"she is\",tweet) \n",
    "    tweet = re.sub(r\"he's\",\"he is\",tweet) \n",
    "    tweet = re.sub(r\"they're\",\"they are\",tweet)\n",
    "    tweet = re.sub(r\"who,re\",\"who are\",tweet)\n",
    "    tweet = re.sub(r\"ain't\",\"are not\",tweet)\n",
    "    tweet = re.sub(r\"wouldn't\",\"would not\",tweet)\n",
    "    tweet = re.sub(r\"should't\",\"should not\",tweet)\n",
    "    tweet = re.sub(r\"can't\",\"can not\",tweet)\n",
    "    tweet = re.sub(r\"could't\",\"could not\",tweet)\n",
    "    tweet = re.sub(r\"won't\",\"will not\",tweet)\n",
    "    tweet = re.sub(r\"\\W\",\" \",tweet)\n",
    "    tweet = re.sub(r\"\\d\",\" \",tweet)\n",
    "    tweet = re.sub(r\"\\s+[a-z]$\",\" \",tweet)\n",
    "    tweet = re.sub(r\"^[a-z]\\s+\",\" \",tweet)\n",
    "    tweet = re.sub(r\"\\s+\",\" \",tweet)\n",
    "    sent = clf.predict(vectorizer.transform([tweet]).toarray())\n",
    "    print(tweet,\":\",sent)"
   ]
  },
  {
   "cell_type": "code",
   "execution_count": 226,
   "metadata": {},
   "outputs": [],
   "source": [
    "if sent[0] == 0:\n",
    "    total_neg += 1\n",
    "else:\n",
    "    total_pos += 1"
   ]
  },
  {
   "cell_type": "code",
   "execution_count": 227,
   "metadata": {},
   "outputs": [
    {
     "data": {
      "image/png": "[encoded data removed]",
      "text/plain": [
       "<Figure size 432x288 with 1 Axes>"
      ]
     },
     "metadata": {},
     "output_type": "display_data"
    }
   ],
   "source": [
    "import matplotlib.pyplot as plt\n",
    "import numpy as np\n",
    "objects = ['POSITIVE','NEGATIVE']\n",
    "y_pos = np.arange(len(objects))\n",
    "\n",
    "plt.bar(y_pos,[total_pos,total_neg],alpha=1,color = 'orange')\n",
    "plt.xticks(y_pos,objects)\n",
    "plt.ylabel('Number')\n",
    "plt.title('Number of Postive and Negative Tweets')\n",
    "\n",
    "plt.show() \n",
    "plt.style.use('dark_background')"
   ]
  }
 ],
 "metadata": {
  "kernelspec": {
   "display_name": "Python 3",
   "language": "python",
   "name": "python3"
  },
  "language_info": {
   "codemirror_mode": {
    "name": "ipython",
    "version": 3
   },
   "file_extension": ".py",
   "mimetype": "text/x-python",
   "name": "python",
   "nbconvert_exporter": "python",
   "pygments_lexer": "ipython3",
   "version": "3.7.4"
  }
 },
 "nbformat": 4,
 "nbformat_minor": 2
}
